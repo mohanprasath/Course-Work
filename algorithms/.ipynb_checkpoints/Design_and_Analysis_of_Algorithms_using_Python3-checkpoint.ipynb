{
 "cells": [
  {
   "cell_type": "code",
   "execution_count": null,
   "metadata": {
    "collapsed": true
   },
   "outputs": [],
   "source": [
    "# A Graph implementation\n",
    "# Source: http://stackoverflow.com/questions/19472530/representing-graphs-data-structure-in-python\n",
    "from collections import defaultdict\n",
    "\n",
    "\n",
    "class Graph(object):\n",
    "    \"\"\" Graph data structure, undirected by default. \"\"\"\n",
    "\n",
    "    def __init__(self, connections, directed=False):\n",
    "        self._graph = defaultdict(set)\n",
    "        self._directed = directed\n",
    "        self.add_connections(connections)\n",
    "\n",
    "    def add_connections(self, connections):\n",
    "        \"\"\" Add connections (list of tuple pairs) to graph \"\"\"\n",
    "\n",
    "        for node1, node2 in connections:\n",
    "            self.add(node1, node2)\n",
    "\n",
    "    def add(self, node1, node2):\n",
    "        \"\"\" Add connection between node1 and node2 \"\"\"\n",
    "\n",
    "        self._graph[node1].add(node2)\n",
    "        if not self._directed:\n",
    "            self._graph[node2].add(node1)\n",
    "\n",
    "    def remove(self, node):\n",
    "        \"\"\" Remove all references to node \"\"\"\n",
    "\n",
    "        for n, cxns in self._graph.iteritems():\n",
    "            try:\n",
    "                cxns.remove(node)\n",
    "            except KeyError:\n",
    "                pass\n",
    "        try:\n",
    "            del self._graph[node]\n",
    "        except KeyError:\n",
    "            pass\n",
    "\n",
    "    def is_connected(self, node1, node2):\n",
    "        \"\"\" Is node1 directly connected to node2 \"\"\"\n",
    "\n",
    "        return node1 in self._graph and node2 in self._graph[node1]\n",
    "\n",
    "    def find_path(self, node1, node2, path=[]):\n",
    "        \"\"\" Find any path between node1 and node2 (may not be shortest) \"\"\"\n",
    "\n",
    "        path = path + [node1]\n",
    "        if node1 == node2:\n",
    "            return path\n",
    "        if node1 not in self._graph:\n",
    "            return None\n",
    "        for node in self._graph[node1]:\n",
    "            if node not in path:\n",
    "                new_path = self.find_path(node, node2, path)\n",
    "                if new_path:\n",
    "                    return new_path\n",
    "        return None\n",
    "\n",
    "    def __str__(self):\n",
    "        return '{}({})'.format(self.__class__.__name__, dict(self._graph))"
   ]
  }
 ],
 "metadata": {
  "anaconda-cloud": {},
  "kernelspec": {
   "display_name": "Python 3",
   "language": "python",
   "name": "python3"
  },
  "language_info": {
   "codemirror_mode": {
    "name": "ipython",
    "version": 3
   },
   "file_extension": ".py",
   "mimetype": "text/x-python",
   "name": "python",
   "nbconvert_exporter": "python",
   "pygments_lexer": "ipython3",
   "version": "3.5.2+"
  }
 },
 "nbformat": 4,
 "nbformat_minor": 1
}
