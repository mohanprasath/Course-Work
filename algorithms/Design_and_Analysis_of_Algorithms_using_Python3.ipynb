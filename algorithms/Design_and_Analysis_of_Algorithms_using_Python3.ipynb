{
 "cells": [
  {
   "cell_type": "code",
   "execution_count": 1,
   "metadata": {
    "collapsed": true
   },
   "outputs": [],
   "source": [
    "# A Graph implementation\n",
    "# Source: http://stackoverflow.com/questions/19472530/representing-graphs-data-structure-in-python\n",
    "from collections import defaultdict\n",
    "\n",
    "\n",
    "class Graph(object):\n",
    "    \"\"\" Graph data structure, undirected by default. \"\"\"\n",
    "\n",
    "    def __init__(self, connections, directed=False):\n",
    "        self._graph = defaultdict(set)\n",
    "        self._directed = directed\n",
    "        self.add_connections(connections)\n",
    "\n",
    "    def add_connections(self, connections):\n",
    "        \"\"\" Add connections (list of tuple pairs) to graph \"\"\"\n",
    "\n",
    "        for node1, node2 in connections:\n",
    "            self.add(node1, node2)\n",
    "\n",
    "    def add(self, node1, node2):\n",
    "        \"\"\" Add connection between node1 and node2 \"\"\"\n",
    "\n",
    "        self._graph[node1].add(node2)\n",
    "        if not self._directed:\n",
    "            self._graph[node2].add(node1)\n",
    "\n",
    "    def remove(self, node):\n",
    "        \"\"\" Remove all references to node \"\"\"\n",
    "\n",
    "        for n, cxns in self._graph.iteritems():\n",
    "            try:\n",
    "                cxns.remove(node)\n",
    "            except KeyError:\n",
    "                pass\n",
    "        try:\n",
    "            del self._graph[node]\n",
    "        except KeyError:\n",
    "            pass\n",
    "\n",
    "    def is_connected(self, node1, node2):\n",
    "        \"\"\" Is node1 directly connected to node2 \"\"\"\n",
    "\n",
    "        return node1 in self._graph and node2 in self._graph[node1]\n",
    "\n",
    "    def find_path(self, node1, node2, path=[]):\n",
    "        \"\"\" Find any path between node1 and node2 (may not be shortest) \"\"\"\n",
    "\n",
    "        path = path + [node1]\n",
    "        if node1 == node2:\n",
    "            return path\n",
    "        if node1 not in self._graph:\n",
    "            return None\n",
    "        for node in self._graph[node1]:\n",
    "            if node not in path:\n",
    "                new_path = self.find_path(node, node2, path)\n",
    "                if new_path:\n",
    "                    return new_path\n",
    "        return None\n",
    "\n",
    "    def __str__(self):\n",
    "        return '{}({})'.format(self.__class__.__name__, dict(self._graph))"
   ]
  },
  {
   "cell_type": "code",
   "execution_count": 7,
   "metadata": {
    "collapsed": false
   },
   "outputs": [
    {
     "name": "stdout",
     "output_type": "stream",
     "text": [
      "defaultdict(<class 'set'>,\n",
      "            {   'A': {'B'},\n",
      "                'B': {'C', 'D'},\n",
      "                'C': {'D'},\n",
      "                'E': {'F'},\n",
      "                'F': {'C'}})\n",
      "defaultdict(<class 'set'>,\n",
      "            {   'A': {'B'},\n",
      "                'B': {'C', 'A', 'D'},\n",
      "                'C': {'F', 'B', 'D'},\n",
      "                'D': {'B', 'C'},\n",
      "                'E': {'F'},\n",
      "                'F': {'E', 'C'}})\n",
      "defaultdict(<class 'set'>,\n",
      "            {   'A': {'B'},\n",
      "                'B': {'C', 'A', 'D'},\n",
      "                'C': {'F', 'B', 'D'},\n",
      "                'D': {'B', 'E', 'C'},\n",
      "                'E': {'F', 'D'},\n",
      "                'F': {'E', 'C'}})\n"
     ]
    },
    {
     "ename": "AttributeError",
     "evalue": "'collections.defaultdict' object has no attribute 'iteritems'",
     "output_type": "error",
     "traceback": [
      "\u001b[0;31m---------------------------------------------------------------------------\u001b[0m",
      "\u001b[0;31mAttributeError\u001b[0m                            Traceback (most recent call last)",
      "\u001b[0;32m<ipython-input-7-0c0c8c67df4e>\u001b[0m in \u001b[0;36m<module>\u001b[0;34m()\u001b[0m\n\u001b[1;32m     11\u001b[0m \u001b[0mg\u001b[0m\u001b[0;34m.\u001b[0m\u001b[0madd\u001b[0m\u001b[0;34m(\u001b[0m\u001b[0;34m'E'\u001b[0m\u001b[0;34m,\u001b[0m \u001b[0;34m'D'\u001b[0m\u001b[0;34m)\u001b[0m\u001b[0;34m\u001b[0m\u001b[0m\n\u001b[1;32m     12\u001b[0m \u001b[0mp\u001b[0m\u001b[0;34m.\u001b[0m\u001b[0mpprint\u001b[0m\u001b[0;34m(\u001b[0m\u001b[0mg\u001b[0m\u001b[0;34m.\u001b[0m\u001b[0m_graph\u001b[0m\u001b[0;34m)\u001b[0m\u001b[0;34m\u001b[0m\u001b[0m\n\u001b[0;32m---> 13\u001b[0;31m \u001b[0mg\u001b[0m\u001b[0;34m.\u001b[0m\u001b[0mremove\u001b[0m\u001b[0;34m(\u001b[0m\u001b[0;34m'A'\u001b[0m\u001b[0;34m)\u001b[0m\u001b[0;34m\u001b[0m\u001b[0m\n\u001b[0m\u001b[1;32m     14\u001b[0m \u001b[0mp\u001b[0m\u001b[0;34m.\u001b[0m\u001b[0mpprint\u001b[0m\u001b[0;34m(\u001b[0m\u001b[0mg\u001b[0m\u001b[0;34m.\u001b[0m\u001b[0m_graph\u001b[0m\u001b[0;34m)\u001b[0m\u001b[0;34m\u001b[0m\u001b[0m\n\u001b[1;32m     15\u001b[0m \u001b[0mg\u001b[0m\u001b[0;34m.\u001b[0m\u001b[0madd\u001b[0m\u001b[0;34m(\u001b[0m\u001b[0;34m'G'\u001b[0m\u001b[0;34m,\u001b[0m \u001b[0;34m'B'\u001b[0m\u001b[0;34m)\u001b[0m\u001b[0;34m\u001b[0m\u001b[0m\n",
      "\u001b[0;32m<ipython-input-1-87f3d40aa384>\u001b[0m in \u001b[0;36mremove\u001b[0;34m(self, node)\u001b[0m\n\u001b[1;32m     28\u001b[0m         \u001b[0;34m\"\"\" Remove all references to node \"\"\"\u001b[0m\u001b[0;34m\u001b[0m\u001b[0m\n\u001b[1;32m     29\u001b[0m \u001b[0;34m\u001b[0m\u001b[0m\n\u001b[0;32m---> 30\u001b[0;31m         \u001b[0;32mfor\u001b[0m \u001b[0mn\u001b[0m\u001b[0;34m,\u001b[0m \u001b[0mcxns\u001b[0m \u001b[0;32min\u001b[0m \u001b[0mself\u001b[0m\u001b[0;34m.\u001b[0m\u001b[0m_graph\u001b[0m\u001b[0;34m.\u001b[0m\u001b[0miteritems\u001b[0m\u001b[0;34m(\u001b[0m\u001b[0;34m)\u001b[0m\u001b[0;34m:\u001b[0m\u001b[0;34m\u001b[0m\u001b[0m\n\u001b[0m\u001b[1;32m     31\u001b[0m             \u001b[0;32mtry\u001b[0m\u001b[0;34m:\u001b[0m\u001b[0;34m\u001b[0m\u001b[0m\n\u001b[1;32m     32\u001b[0m                 \u001b[0mcxns\u001b[0m\u001b[0;34m.\u001b[0m\u001b[0mremove\u001b[0m\u001b[0;34m(\u001b[0m\u001b[0mnode\u001b[0m\u001b[0;34m)\u001b[0m\u001b[0;34m\u001b[0m\u001b[0m\n",
      "\u001b[0;31mAttributeError\u001b[0m: 'collections.defaultdict' object has no attribute 'iteritems'"
     ]
    }
   ],
   "source": [
    "# An example of an undirected graph implementation\n",
    "import pprint as pp\n",
    "\n",
    "p = pp.PrettyPrinter(indent=4)\n",
    "connections = [('A', 'B'), ('B', 'C'), ('B', 'D'), ('C', 'D'), ('E', 'F'), ('F', 'C')]\n",
    "g = Graph(connections, directed=True)\n",
    "p.pprint(g._graph)\n",
    "\n",
    "g = Graph(connections)  # undirected\n",
    "p.pprint(g._graph)\n",
    "g.add('E', 'D')\n",
    "p.pprint(g._graph)\n",
    "g.remove('A')\n",
    "p.pprint(g._graph)\n",
    "g.add('G', 'B')\n",
    "p.pprint(g._graph)\n",
    "g.find_path('G', 'E')"
   ]
  },
  {
   "cell_type": "code",
   "execution_count": null,
   "metadata": {
    "collapsed": true
   },
   "outputs": [],
   "source": []
  }
 ],
 "metadata": {
  "anaconda-cloud": {},
  "kernelspec": {
   "display_name": "Python 3",
   "language": "python",
   "name": "python3"
  },
  "language_info": {
   "codemirror_mode": {
    "name": "ipython",
    "version": 3
   },
   "file_extension": ".py",
   "mimetype": "text/x-python",
   "name": "python",
   "nbconvert_exporter": "python",
   "pygments_lexer": "ipython3",
   "version": "3.5.2+"
  }
 },
 "nbformat": 4,
 "nbformat_minor": 1
}
