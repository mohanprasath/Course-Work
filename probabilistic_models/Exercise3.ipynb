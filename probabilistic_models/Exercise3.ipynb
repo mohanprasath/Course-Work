{
 "cells": [
  {
   "cell_type": "code",
   "execution_count": 12,
   "metadata": {
    "collapsed": true,
    "deletable": true,
    "editable": true
   },
   "outputs": [],
   "source": [
    "import re\n",
    "\n",
    "class Tokenizer(object):\n",
    "    def __init__(self, stop_words = [], signs_to_remove = [\"?!#%&\"]):\n",
    "        self.stop_words = stop_words\n",
    "        self.signs_to_remove = signs_to_remove\n",
    "\n",
    "    def tokenize(self,text):\n",
    "        return text.lower().split(' ')\n",
    "\n",
    "    def remove_stop_words(self,token):\n",
    "        if token in self.stop_words:\n",
    "            return \"stop_word\"\n",
    "        else:\n",
    "            return token\n",
    "\n",
    "    def remove_punctuation(self,token):\n",
    "        return re.sub(str(self.signs_to_remove),\"\",token)"
   ]
  },
  {
   "cell_type": "code",
   "execution_count": 17,
   "metadata": {
    "collapsed": false,
    "deletable": true,
    "editable": true
   },
   "outputs": [
    {
     "name": "stdout",
     "output_type": "stream",
     "text": [
      "free submission online !!!\n",
      "[('spam', 2.734375e-09), ('ham', 8.641975308641975e-11)]\n",
      "conference paper submission deadline\n",
      "[('ham', 0.1728395061728395), ('spam', 1.0937500000000002e-19)]\n",
      "results paper call registration submission\n",
      "[('ham', 0.019204389574759943), ('spam', 1.3671875000000001e-11)]\n"
     ]
    }
   ],
   "source": [
    "\"\"\"\n",
    "Suppose you have some texts of news and know their categories.\n",
    "You want to train a system with this pre-categorized/pre-classified \n",
    "texts. So, you have better call this data your training set.\n",
    "\"\"\"\n",
    "\n",
    "from naiveBayesClassifier.trainer import Trainer\n",
    "from naiveBayesClassifier.classifier import Classifier\n",
    "\n",
    "newsTrainer = Trainer(Tokenizer(stop_words = [], signs_to_remove = [\"?#%&\"]))\n",
    "\n",
    "# You need to train the system passing each text one by one to the trainer module.\n",
    "newsSet=[\n",
    "    {\"text\": \"free online !!! results free\", \"category\": \"spam\"},\n",
    "    {\"text\": \"results repository online !!!\", \"category\": \"ham\"},\n",
    "    {\"text\": \"!!! online paper free !!!\", \"category\": \"spam\"},\n",
    "    {\"text\": \"!!! conference registration online !!!\", \"category\": \"spam\"},\n",
    "    {\"text\": \"free call free registration online\", \"category\": \"spam\"},\n",
    "    {\"text\": \"conference call paper registration conference\", \"category\": \"ham\"},\n",
    "    {\"text\": \"submission deadline conference call deadline\", \"category\": \"ham\"},\n",
    "]\n",
    "\n",
    "for news in newsSet:\n",
    "    newsTrainer.train(news[\"text\"], news[\"category\"])\n",
    "\n",
    "# When you have sufficient trained data, you are almost done and can start to use\n",
    "# a classifier.\n",
    "newsClassifier = Classifier(newsTrainer.data, Tokenizer(stop_words = [], signs_to_remove = [\"?#%&\"]))\n",
    "\n",
    "# Now you have a classifier which can give a try to classifiy text of news whose\n",
    "# category is unknown, yet.\n",
    "unknownInstances = [\n",
    "    \"free submission online !!!\",\n",
    "    \"conference paper submission deadline\",\n",
    "    \"results paper call registration submission\"\n",
    "]\n",
    "for unknownInstance in unknownInstances:\n",
    "    newsClassifier = Classifier(newsTrainer.data, Tokenizer(stop_words = [], signs_to_remove = [\"?#%&\"]))\n",
    "    classification = newsClassifier.classify(unknownInstance)\n",
    "    # the classification variable holds the possible categories sorted by \n",
    "    # their probablity value\n",
    "    print unknownInstance\n",
    "    print classification\n"
   ]
  },
  {
   "cell_type": "code",
   "execution_count": 15,
   "metadata": {
    "collapsed": false,
    "deletable": true,
    "editable": true
   },
   "outputs": [
    {
     "name": "stdout",
     "output_type": "stream",
     "text": [
      "{'ham': {'conference': 3, '!!!': 1, 'submission': 1, 'repository': 1, 'registration': 1, 'results': 1, 'paper': 1, 'call': 2, 'online': 1, 'deadline': 2}, 'spam': {'conference': 1, '!!!': 5, 'registration': 2, 'results': 1, 'free': 5, 'paper': 1, 'call': 1, 'online': 4}}\n"
     ]
    }
   ],
   "source": [
    "type_count = {}\n",
    "for entry in newsSet:\n",
    "    text = entry['text']\n",
    "    category = entry['category']\n",
    "    words = text.lower().split(' ')\n",
    "    k = []\n",
    "    for i in words:\n",
    "        j = i.replace(\" \",'')\n",
    "        k.append(j)\n",
    "    words = k\n",
    "    words_count = {}\n",
    "    for word in words:\n",
    "        if word not in words_count:\n",
    "            words_count[word] = 1\n",
    "        else:\n",
    "            value = words_count[word]\n",
    "            words_count[word] = value + 1\n",
    "    # print words_count\n",
    "    if category not in type_count:       \n",
    "        type_count[category] = words_count\n",
    "    else:\n",
    "        old_words_count = type_count[category]\n",
    "        for word in words_count:\n",
    "            if word not in old_words_count:\n",
    "                old_words_count[word] = words_count[word]\n",
    "            else:\n",
    "                value = old_words_count[word]\n",
    "                old_words_count[word] = value + words_count[word]\n",
    "        type_count[category] = old_words_count\n",
    "print type_count\n"
   ]
  },
  {
   "cell_type": "code",
   "execution_count": 16,
   "metadata": {
    "collapsed": false,
    "deletable": true,
    "editable": true
   },
   "outputs": [
    {
     "name": "stdout",
     "output_type": "stream",
     "text": [
      "0.00251491914657\n",
      "0.00251491914657\n",
      "0.00125745957329\n",
      "0.00125745957329\n",
      "5.5887092146e-05\n",
      "4.65725767884e-06\n",
      "0.000987654320988\n"
     ]
    }
   ],
   "source": [
    "'''\n",
    "[6.0, 5.0, 6.0, 2.0, 6.0],\n",
    "[6.0, 5.0, 2.0, 6.0, 6.0],\n",
    "[6.0, 2.0, 3.0, 5.0, 6.0],\n",
    "[6.0, 2.0, 6.0, 3.0, 5.0],\n",
    "[2.0, 2.0, 2.0, 3.0, 2.0],\n",
    "[1.0, 1.0, 2.0, 2.0, 1.0]\n",
    "'''\n",
    "# 2, 1, 5, 6\n",
    "nume_list = [[6.0, 5.0, 6.0, 2.0, 6.0],\n",
    "[6.0, 5.0, 2.0, 6.0, 6.0],\n",
    "[6.0, 2.0, 3.0, 5.0, 6.0],\n",
    "[6.0, 2.0, 6.0, 3.0, 5.0],\n",
    "[2.0, 2.0, 2.0, 3.0, 2.0],\n",
    "[1.0, 1.0, 2.0, 2.0, 1.0]]\n",
    "deno = [31.0, 31.0, 31.0, 31.0, 31.0]\n",
    "fr_nume = [5.0, 4.0, 3.0, 2.0, 1.0]\n",
    "fr_deno = [2.0, 1.0, 1.0, 1.0, 1.0]\n",
    "probability = 5.0/9.0\n",
    "numerator = 1\n",
    "denominator = 1\n",
    "for nume in nume_list:\n",
    "    numerator = 1\n",
    "    denominator = 1\n",
    "    for i in range(0, 5):\n",
    "        numerator *= (nume[i] * fr_nume[i])\n",
    "        denominator *= (deno[i] * fr_deno[i])\n",
    "    print (float(numerator)/float(denominator))*(probability)\n",
    "\n",
    "print (2.0*1.0*5.0*6.0*4.0*3.0*2.0*5.0)/(9.0*30.0*30.0*30.0*30.0)\n"
   ]
  },
  {
   "cell_type": "code",
   "execution_count": 10,
   "metadata": {
    "collapsed": false
   },
   "outputs": [
    {
     "name": "stdout",
     "output_type": "stream",
     "text": [
      "5.24288e-05\n",
      "1.31687242798e-05\n"
     ]
    }
   ],
   "source": [
    "\"free submission online !!!\"\n",
    "print \n",
    "\n",
    "\"conference paper submission deadline\"\n",
    "\n",
    "\"results paper call registration submission\"\n",
    "print (2.0 * 2.0 * 3.0 * 2.0 * 2.0 * 24.0 * 4.0)/(9.0 * 25.0 * 25.0 * 25.0 * 25.0 * 25.0) # ham\n",
    "print (2.0 * 2.0 * 2.0 * 3.0 * 1.0 * 24.0 * 5.0)/(9.0 * 30.0 * 30.0 * 30.0 * 30.0 * 30.0) # spam"
   ]
  },
  {
   "cell_type": "code",
   "execution_count": 23,
   "metadata": {
    "collapsed": false
   },
   "outputs": [
    {
     "name": "stdout",
     "output_type": "stream",
     "text": [
      "Generating 5 spam documents\n",
      "['online' 'conference' 'call' 'online' '!!!' '!!!']\n",
      "['free' 'free' 'call' '!!!' 'free' 'results']\n",
      "['!!!' 'repository' 'free' 'paper' 'paper' 'submission']\n",
      "['call' 'free' 'results' 'conference' 'online' 'free']\n",
      "['!!!' '!!!' 'free' 'registration' 'online' 'free']\n",
      "Generating 5 ham documents\n",
      "['conference' 'online' 'paper' '!!!' '!!!' 'call']\n",
      "['call' 'paper' 'submission' 'repository' 'call' 'submission']\n",
      "['conference' 'results' 'call' 'repository' 'submission' 'conference']\n",
      "['call' 'submission' 'deadline' 'free' 'results' 'free']\n",
      "['call' 'deadline' 'results' 'conference' 'call' 'results']\n"
     ]
    }
   ],
   "source": [
    "import numpy as np\n",
    "print \"Generating 5 spam documents\"\n",
    "for i in range(0,5):\n",
    "    print np.random.choice(\n",
    "      ['free', 'online', '!!!', 'results', 'repository', 'paper', 'call', 'conference', 'registration', 'submission', 'deadline'], \n",
    "      6,\n",
    "      p=[6.0/31.0, 5.0/31.0, 6.0/31.0, 2.0/31.0, 1.0/31.0, 2.0/31.0, 2.0/31.0, 2.0/31.0, 3.0/31.0, 1.0/31.0, 1.0/31.0]\n",
    "    )\n",
    "    \n",
    "print \"Generating 5 ham documents\"\n",
    "for i in range(0,5):\n",
    "    print np.random.choice(\n",
    "      ['free', 'online', '!!!', 'results', 'repository', 'paper', 'call', 'conference', 'registration', 'submission', 'deadline'], \n",
    "      6,\n",
    "      p=[1.0/25.0, 2.0/25.0, 2.0/25.0, 2.0/25.0, 2.0/25.0, 2.0/25.0, 3.0/25.0, 4.0/25.0, 2.0/25.0, 2.0/25.0, 3.0/25.0]\n",
    "    )"
   ]
  },
  {
   "cell_type": "code",
   "execution_count": null,
   "metadata": {
    "collapsed": true
   },
   "outputs": [],
   "source": []
  }
 ],
 "metadata": {
  "kernelspec": {
   "display_name": "Python 2",
   "language": "python",
   "name": "python2"
  },
  "language_info": {
   "codemirror_mode": {
    "name": "ipython",
    "version": 2
   },
   "file_extension": ".py",
   "mimetype": "text/x-python",
   "name": "python",
   "nbconvert_exporter": "python",
   "pygments_lexer": "ipython2",
   "version": "2.7.12"
  }
 },
 "nbformat": 4,
 "nbformat_minor": 2
}
