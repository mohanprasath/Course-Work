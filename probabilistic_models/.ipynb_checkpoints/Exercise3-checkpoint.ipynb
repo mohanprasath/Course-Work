{
 "cells": [
  {
   "cell_type": "code",
   "execution_count": 1,
   "metadata": {
    "collapsed": true,
    "deletable": true,
    "editable": true
   },
   "outputs": [],
   "source": [
    "import re\n",
    "\n",
    "class Tokenizer(object):\n",
    "    def __init__(self, stop_words = [], signs_to_remove = [\"?!#%&\"]):\n",
    "        self.stop_words = stop_words\n",
    "        self.signs_to_remove = signs_to_remove\n",
    "\n",
    "    def tokenize(self,text):\n",
    "        return text.lower().split(' ')\n",
    "\n",
    "    def remove_stop_words(self,token):\n",
    "        if token in self.stop_words:\n",
    "            return \"stop_word\"\n",
    "        else:\n",
    "            return token\n",
    "\n",
    "    def remove_punctuation(self,token):\n",
    "        return re.sub(str(self.signs_to_remove),\"\",token)"
   ]
  },
  {
   "cell_type": "code",
   "execution_count": 2,
   "metadata": {
    "collapsed": false,
    "deletable": true,
    "editable": true
   },
   "outputs": [
    {
     "name": "stdout",
     "output_type": "stream",
     "text": [
      "free submission online !!!\n",
      "[('spam', 2.1875e-09), ('ham', 8.641975308641975e-11)]\n",
      "conference paper submission deadline\n",
      "[('ham', 0.1728395061728395), ('spam', 1.0937500000000002e-19)]\n"
     ]
    }
   ],
   "source": [
    "\"\"\"\n",
    "Suppose you have some texts of news and know their categories.\n",
    "You want to train a system with this pre-categorized/pre-classified \n",
    "texts. So, you have better call this data your training set.\n",
    "\"\"\"\n",
    "\n",
    "from naiveBayesClassifier.trainer import Trainer\n",
    "from naiveBayesClassifier.classifier import Classifier\n",
    "\n",
    "newsTrainer = Trainer(Tokenizer(stop_words = [], signs_to_remove = [\"?#%&\"]))\n",
    "\n",
    "# You need to train the system passing each text one by one to the trainer module.\n",
    "newsSet=[\n",
    "    {\"text\": \"free online !!! results free\", \"category\": \"spam\"},\n",
    "    {\"text\": \"results repository online !!!\", \"category\": \"ham\"},\n",
    "    {\"text\": \"!!! online paper free\", \"category\": \"spam\"},\n",
    "    {\"text\": \"!!! conference registration online !!!\", \"category\": \"spam\"},\n",
    "    {\"text\": \"free call free registration online\", \"category\": \"spam\"},\n",
    "    {\"text\": \"conference call paper registration conference\", \"category\": \"ham\"},\n",
    "    {\"text\": \"submission deadline conference call deadline\", \"category\": \"ham\"},\n",
    "]\n",
    "\n",
    "for news in newsSet:\n",
    "    newsTrainer.train(news[\"text\"], news[\"category\"])\n",
    "\n",
    "# When you have sufficient trained data, you are almost done and can start to use\n",
    "# a classifier.\n",
    "newsClassifier = Classifier(newsTrainer.data, Tokenizer(stop_words = [], signs_to_remove = [\"?#%&\"]))\n",
    "\n",
    "# Now you have a classifier which can give a try to classifiy text of news whose\n",
    "# category is unknown, yet.\n",
    "unknownInstances = [\n",
    "    \"free submission online !!!\",\n",
    "    \"conference paper submission deadline\"\n",
    "]\n",
    "for unknownInstance in unknownInstances:\n",
    "    classification = newsClassifier.classify(unknownInstance)\n",
    "    # the classification variable holds the possible categories sorted by \n",
    "    # their probablity value\n",
    "    print unknownInstance\n",
    "    print classification\n"
   ]
  },
  {
   "cell_type": "code",
   "execution_count": 13,
   "metadata": {
    "collapsed": false,
    "deletable": true,
    "editable": true
   },
   "outputs": [
    {
     "name": "stdout",
     "output_type": "stream",
     "text": [
      "{'ham': {'conference': 3, '!!!': 1, 'submission': 1, 'repository': 1, 'registration': 1, 'results': 1, 'paper': 1, 'call': 2, 'online': 1, 'deadline': 2}, 'spam': {'conference': 1, '!!!': 4, 'registration': 2, 'results': 1, 'free': 5, 'paper': 1, 'call': 1, 'online': 4}}\n"
     ]
    }
   ],
   "source": [
    "type_count = {}\n",
    "for entry in newsSet:\n",
    "    text = entry['text']\n",
    "    category = entry['category']\n",
    "    words = text.lower().split(' ')\n",
    "    k = []\n",
    "    for i in words:\n",
    "        j = i.replace(\" \",'')\n",
    "        k.append(j)\n",
    "    words = k\n",
    "    words_count = {}\n",
    "    for word in words:\n",
    "        if word not in words_count:\n",
    "            words_count[word] = 1\n",
    "        else:\n",
    "            value = words_count[word]\n",
    "            words_count[word] = value + 1\n",
    "    # print words_count\n",
    "    if category not in type_count:       \n",
    "        type_count[category] = words_count\n",
    "    else:\n",
    "        old_words_count = type_count[category]\n",
    "        for word in words_count:\n",
    "            if word not in old_words_count:\n",
    "                old_words_count[word] = words_count[word]\n",
    "            else:\n",
    "                value = old_words_count[word]\n",
    "                old_words_count[word] = value + words_count[word]\n",
    "        type_count[category] = old_words_count\n",
    "print type_count\n"
   ]
  },
  {
   "cell_type": "code",
   "execution_count": null,
   "metadata": {
    "collapsed": true
   },
   "outputs": [],
   "source": []
  }
 ],
 "metadata": {
  "kernelspec": {
   "display_name": "Python 2",
   "language": "python",
   "name": "python2"
  },
  "language_info": {
   "codemirror_mode": {
    "name": "ipython",
    "version": 2
   },
   "file_extension": ".py",
   "mimetype": "text/x-python",
   "name": "python",
   "nbconvert_exporter": "python",
   "pygments_lexer": "ipython2",
   "version": "2.7.3"
  }
 },
 "nbformat": 4,
 "nbformat_minor": 2
}
