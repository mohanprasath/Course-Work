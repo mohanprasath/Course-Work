{
 "cells": [
  {
   "cell_type": "markdown",
   "metadata": {},
   "source": [
    "# Web Development\n",
    "## HTML\n",
    "\n",
    "Hyper Text Markup Language\n",
    "\n",
    "    Most web sites are have html pages. A browser requests a web server using a HTTP request. The web server communicates to the browser using a HTTP response. \n",
    "    \n",
    "    HTTP - Hyper Text Transfer Protocol\n",
    "   \n",
    "Elements in a HTTP end-to-end request response cycle are,\n",
    "\n",
    "1. Web Browser\n",
    "2. Internet (or Intranet too), usually represented by a cloud symbol\n",
    "3. HTTP\n",
    "4. Web Servers\n",
    "\n",
    "### HTML Markup\n",
    "#### Syntax\n",
    "   \n",
    "   <NAME> Contents </NAME>\n",
    "   \n",
    "The above syntax is of the following format,\n",
    "\n",
    "    Opening_tag: Contents : Closing_tag\n",
    "    \n",
    "##### Example:\n",
    "The following code displays HTML content with a bold tag,"
   ]
  },
  {
   "cell_type": "code",
   "execution_count": 1,
   "metadata": {
    "collapsed": false
   },
   "outputs": [
    {
     "data": {
      "text/html": [
       "My first ipython HTML <b>bold</b> tag"
      ],
      "text/plain": [
       "<IPython.core.display.HTML object>"
      ]
     },
     "metadata": {},
     "output_type": "display_data"
    }
   ],
   "source": [
    "from IPython.core.display import display, HTML\n",
    "display(HTML('My first ipython HTML <b>bold</b> tag'))"
   ]
  },
  {
   "cell_type": "markdown",
   "metadata": {},
   "source": [
    "##### Example 2:\n",
    "An example to show contents itlicized,"
   ]
  },
  {
   "cell_type": "code",
   "execution_count": 3,
   "metadata": {
    "collapsed": false
   },
   "outputs": [
    {
     "data": {
      "text/html": [
       "My first ipython HTML <em>italics</em> tag"
      ],
      "text/plain": [
       "<IPython.core.display.HTML object>"
      ]
     },
     "metadata": {},
     "output_type": "display_data"
    }
   ],
   "source": [
    "display(HTML('My first ipython HTML <em>italics</em> tag'))"
   ]
  },
  {
   "cell_type": "markdown",
   "metadata": {},
   "source": [
    "##### Debug 1: What happens if the end tag is not written"
   ]
  },
  {
   "cell_type": "code",
   "execution_count": 4,
   "metadata": {
    "collapsed": false
   },
   "outputs": [
    {
     "data": {
      "text/html": [
       "My first ipython HTML <em>italics tag"
      ],
      "text/plain": [
       "<IPython.core.display.HTML object>"
      ]
     },
     "metadata": {},
     "output_type": "display_data"
    }
   ],
   "source": [
    "display(HTML('My first ipython HTML <em>italics tag'))"
   ]
  },
  {
   "cell_type": "markdown",
   "metadata": {},
   "source": [
    "All data after the starting tag is incuded in the function of the starting tag. Simply all data fter the starting tag is itlicized.\n",
    "\n",
    "### Attributes\n",
    "#### Syntax:\n",
    "    \n",
    "    <TAG ATTR=\"value\"> Contents </TAG>\n",
    "\n",
    "#### Example 1:\n",
    "    Anchor tag exmaple,\n",
    "    "
   ]
  },
  {
   "cell_type": "code",
   "execution_count": null,
   "metadata": {
    "collapsed": true
   },
   "outputs": [],
   "source": []
  }
 ],
 "metadata": {
  "anaconda-cloud": {},
  "kernelspec": {
   "display_name": "Python [conda env:py27]",
   "language": "python",
   "name": "conda-env-py27-py"
  },
  "language_info": {
   "codemirror_mode": {
    "name": "ipython",
    "version": 2
   },
   "file_extension": ".py",
   "mimetype": "text/x-python",
   "name": "python",
   "nbconvert_exporter": "python",
   "pygments_lexer": "ipython2",
   "version": "2.7.12"
  }
 },
 "nbformat": 4,
 "nbformat_minor": 2
}
