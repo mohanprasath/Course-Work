{
 "cells": [
  {
   "cell_type": "raw",
   "metadata": {},
   "source": [
    "keywords:\n",
    "    Long tail - moast things are quite common, while some are quite rare\n",
    "    Covariates - like height and weight of a person\n",
    "    Types - pedictive or supervised, descriptive or unsupervised, re-inforcement\n",
    "    Classification - in (input, output) if output is categorical or nominal like \"tall\", \"short\"\n",
    "    Regression - in (input, output) if output is real-valued like 175 cm\n",
    "    Knowledged Discovery - finding patterns in  unsupervised data => since no output to compare to no error metrics\n",
    "    Function approximation - In classification, when y = f(x), we try to predict to train the function on x to predict y"
   ]
  },
  {
   "cell_type": "raw",
   "metadata": {},
   "source": [
    "Classification:\n",
    "    We try to map the input x to some output y\n",
    "    If number of output types is 2, we call the classification as binary Ex: tall or short\n",
    "    If the output type is > 2, we call thisa type of calssification to be multiclass classification Ex: tall, very tall, short, very short\n",
    "    If output is of many types, we call this type of classification to be multi-label classification Ex: tall - normal weight, tall - obese, tall - lean\n",
    "    Function approximation on training data is usually easy\n",
    "    Generalization is when we train the function to predict unseen data"
   ]
  },
  {
   "cell_type": "code",
   "execution_count": null,
   "metadata": {},
   "outputs": [],
   "source": []
  }
 ],
 "metadata": {
  "kernelspec": {
   "display_name": "Python 3",
   "language": "python",
   "name": "python3"
  },
  "language_info": {
   "codemirror_mode": {
    "name": "ipython",
    "version": 3
   },
   "file_extension": ".py",
   "mimetype": "text/x-python",
   "name": "python",
   "nbconvert_exporter": "python",
   "pygments_lexer": "ipython3",
   "version": "3.5.4"
  },
  "toc": {
   "nav_menu": {},
   "number_sections": true,
   "sideBar": true,
   "skip_h1_title": false,
   "toc_cell": false,
   "toc_position": {},
   "toc_section_display": "block",
   "toc_window_display": false
  },
  "varInspector": {
   "cols": {
    "lenName": 16,
    "lenType": 16,
    "lenVar": 40
   },
   "kernels_config": {
    "python": {
     "delete_cmd_postfix": "",
     "delete_cmd_prefix": "del ",
     "library": "var_list.py",
     "varRefreshCmd": "print(var_dic_list())"
    },
    "r": {
     "delete_cmd_postfix": ") ",
     "delete_cmd_prefix": "rm(",
     "library": "var_list.r",
     "varRefreshCmd": "cat(var_dic_list()) "
    }
   },
   "types_to_exclude": [
    "module",
    "function",
    "builtin_function_or_method",
    "instance",
    "_Feature"
   ],
   "window_display": false
  }
 },
 "nbformat": 4,
 "nbformat_minor": 2
}
