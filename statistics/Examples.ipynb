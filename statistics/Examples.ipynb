{
 "cells": [
  {
   "cell_type": "markdown",
   "metadata": {},
   "source": [
    "# Introduction"
   ]
  },
  {
   "cell_type": "markdown",
   "metadata": {},
   "source": [
    "In this notebook, I'm trying to understand Statistics through programming.  \n",
    "My examples are used for my learning purposes. I'm trying to implement  \n",
    "the examples in python, numpy and scipy."
   ]
  },
  {
   "cell_type": "code",
   "execution_count": 2,
   "metadata": {
    "ExecuteTime": {
     "end_time": "2019-08-12T18:25:42.304761Z",
     "start_time": "2019-08-12T18:25:42.300756Z"
    }
   },
   "outputs": [],
   "source": [
    "\n"
   ]
  },
  {
   "cell_type": "markdown",
   "metadata": {},
   "source": [
    "# Book 1 - Statistics for Non Statiticians"
   ]
  },
  {
   "cell_type": "code",
   "execution_count": 3,
   "metadata": {},
   "outputs": [
    {
     "data": {
      "image/png": "[encoded data removed]",
      "text/plain": [
       "<Figure size 432x288 with 1 Axes>"
      ]
     },
     "metadata": {
      "needs_background": "light"
     },
     "output_type": "display_data"
    },
    {
     "data": {
      "image/png": "[encoded data removed]",
      "text/plain": [
       "<Figure size 432x288 with 1 Axes>"
      ]
     },
     "metadata": {
      "needs_background": "light"
     },
     "output_type": "display_data"
    }
   ],
   "source": [
    "# Normal Distribution - is it always random?\n",
    "\n",
    "def create_random_numbers(count, lowest, highest):\n",
    "    import random\n",
    "    result = []\n",
    "    for x in range(count):\n",
    "        result.append(random.randint(lowest, highest))\n",
    "    return result\n",
    "\n",
    "import matplotlib.pyplot as plt\n",
    "%matplotlib inline\n",
    "random_numbers = create_random_numbers(10000, 0, 100)\n",
    "plt.hist(random_numbers)\n",
    "plt.show()\n",
    "\n",
    "# using numpy random\n",
    "import numpy as np\n",
    "mu, sigma = 0, 0.1 # mean and standard deviation\n",
    "s = np.random.normal(mu, sigma, 10000)\n",
    "plt.clf()\n",
    "plt.hist(s)\n",
    "plt.show()"
   ]
  },
  {
   "cell_type": "markdown",
   "metadata": {},
   "source": [
    "## Chapter 3 Description of Data"
   ]
  },
  {
   "cell_type": "code",
   "execution_count": null,
   "metadata": {},
   "outputs": [],
   "source": []
  },
  {
   "cell_type": "code",
   "execution_count": 19,
   "metadata": {
    "ExecuteTime": {
     "end_time": "2019-08-13T17:18:18.303507Z",
     "start_time": "2019-08-13T17:18:18.286516Z"
    }
   },
   "outputs": [
    {
     "name": "stdout",
     "output_type": "stream",
     "text": [
      "(5.6, 5.5, 7, 6, 3.8222222222222224, 1.9550504398153574)\n"
     ]
    },
    {
     "data": {
      "text/plain": [
       "\"\\n# average\\ndata = [3, 5, 6, 4, 7, 9, 3, 5, 7, 7]\\n# python 3 code\\npython_res = statistics.mean(data)\\n# numpy code\\nnumpy_res = np.mean(np.array(data))\\n# scipy code\\nscipy_res = sp.mean(data)\\nprint(python_res, numpy_res, scipy_res)\\n\\n# median\\ndata = [3, 5, 6, 4, 7, 9, 3, 5, 7, 7]\\n# python 3 code\\npython_res = statistics.median(data)\\n# numpy code\\nnumpy_res = np.median(np.array(data))\\n# scipy code\\nscipy_res = sp.median(data)\\nprint(python_res, numpy_res, scipy_res)\\n\\n# mode\\ndata = [3, 5, 6, 4, 7, 9, 3, 5, 7, 7]\\n# python 3 code\\npython_res = statistics.mode(data)\\n# numpy code - mode finding not available\\n# scipy code\\nscipy_res = stats.mode(data)\\nprint(python_res, numpy_res, scipy_res)\\n\\n# Section 3.3 Measures of Dispersion - Range, Variance and Stand Dev, IQR\\n\\n# Range\\ndata = [3, 5, 6, 4, 7, 9, 3, 5, 7, 7]\\n# python 3 code\\npython_res = max(data) - min(data)\\n# numpy code\\nnumpy_res = np.max(np.array(data)) - np.min(np.array(data))\\n# scipy code - I haven't found any in docs\\nscipy_res = None\\nprint(python_res, numpy_res, scipy_res)\\n\\n# Variance and Standard Deviation\\ndata = [3, 5, 6, 4, 7, 9, 3, 5, 7, 7]\\n# python 3 code\\npython_res = statistics.variance(data)\\n# numpy code\\nnumpy_res = np.var(np.array(data))\\n# scipy code\\nscipy_res = None\\nprint(python_res, numpy_res, scipy_res)\\n# python 3 code\\npython_res = statistics.variance(data)\\n# numpy code\\nnumpy_res = np.var(np.array(data))\\n# scipy code\\nscipy_res = None\\nprint(python_res, numpy_res, scipy_res)\\n\""
      ]
     },
     "execution_count": 19,
     "metadata": {},
     "output_type": "execute_result"
    }
   ],
   "source": [
    "# Section 3.2 Measures of Location - average, median and mode\n",
    "\n",
    "import numpy as np\n",
    "import scipy as sp\n",
    "import statistics\n",
    "from scipy import stats\n",
    "\n",
    "# https://docs.python.org/3/library/statistics.html?highlight=standard%20deviation\n",
    "\n",
    "def python_stats(data):\n",
    "    # Mean, Median, Mode, Range, Variance, Standard Deviation\n",
    "    return statistics.mean(data), \\\n",
    "    statistics.median(data), \\\n",
    "    statistics.mode(data), \\\n",
    "    max(data) - min(data), \\\n",
    "    statistics.variance(data), \\\n",
    "    statistics.stdev(data)\n",
    "\n",
    "\n",
    "data = [3, 5, 6, 4, 7, 9, 3, 5, 7, 7]\n",
    "print(python_stats(data))\n",
    "\"\"\"\n",
    "# average\n",
    "data = [3, 5, 6, 4, 7, 9, 3, 5, 7, 7]\n",
    "# python 3 code\n",
    "python_res = statistics.mean(data)\n",
    "# numpy code\n",
    "numpy_res = np.mean(np.array(data))\n",
    "# scipy code\n",
    "scipy_res = sp.mean(data)\n",
    "print(python_res, numpy_res, scipy_res)\n",
    "\n",
    "# median\n",
    "data = [3, 5, 6, 4, 7, 9, 3, 5, 7, 7]\n",
    "# python 3 code\n",
    "python_res = statistics.median(data)\n",
    "# numpy code\n",
    "numpy_res = np.median(np.array(data))\n",
    "# scipy code\n",
    "scipy_res = sp.median(data)\n",
    "print(python_res, numpy_res, scipy_res)\n",
    "\n",
    "# mode\n",
    "data = [3, 5, 6, 4, 7, 9, 3, 5, 7, 7]\n",
    "# python 3 code\n",
    "python_res = statistics.mode(data)\n",
    "# numpy code - mode finding not available\n",
    "# scipy code\n",
    "scipy_res = stats.mode(data)\n",
    "print(python_res, numpy_res, scipy_res)\n",
    "\n",
    "# Section 3.3 Measures of Dispersion - Range, Variance and Stand Dev, IQR\n",
    "\n",
    "# Range\n",
    "data = [3, 5, 6, 4, 7, 9, 3, 5, 7, 7]\n",
    "# python 3 code\n",
    "python_res = max(data) - min(data)\n",
    "# numpy code\n",
    "numpy_res = np.max(np.array(data)) - np.min(np.array(data))\n",
    "# scipy code - I haven't found any in docs\n",
    "scipy_res = None\n",
    "print(python_res, numpy_res, scipy_res)\n",
    "\n",
    "# Variance and Standard Deviation\n",
    "data = [3, 5, 6, 4, 7, 9, 3, 5, 7, 7]\n",
    "# python 3 code\n",
    "python_res = statistics.variance(data)\n",
    "# numpy code\n",
    "numpy_res = np.var(np.array(data))\n",
    "# scipy code\n",
    "scipy_res = None\n",
    "print(python_res, numpy_res, scipy_res)\n",
    "# python 3 code\n",
    "python_res = statistics.variance(data)\n",
    "# numpy code\n",
    "numpy_res = np.var(np.array(data))\n",
    "# scipy code\n",
    "scipy_res = None\n",
    "print(python_res, numpy_res, scipy_res)\n",
    "\"\"\"\n"
   ]
  },
  {
   "cell_type": "code",
   "execution_count": 13,
   "metadata": {
    "ExecuteTime": {
     "end_time": "2019-08-13T15:28:59.605095Z",
     "start_time": "2019-08-13T15:28:51.640973Z"
    }
   },
   "outputs": [
    {
     "data": {
      "text/plain": [
       "ModeResult(mode=array([7]), count=array([3]))"
      ]
     },
     "execution_count": 13,
     "metadata": {},
     "output_type": "execute_result"
    }
   ],
   "source": []
  },
  {
   "cell_type": "code",
   "execution_count": null,
   "metadata": {},
   "outputs": [],
   "source": []
  }
 ],
 "metadata": {
  "kernelspec": {
   "display_name": "Python 3",
   "language": "python",
   "name": "python3"
  },
  "language_info": {
   "codemirror_mode": {
    "name": "ipython",
    "version": 3
   },
   "file_extension": ".py",
   "mimetype": "text/x-python",
   "name": "python",
   "nbconvert_exporter": "python",
   "pygments_lexer": "ipython3",
   "version": "3.6.9"
  },
  "toc": {
   "base_numbering": 1,
   "nav_menu": {},
   "number_sections": true,
   "sideBar": true,
   "skip_h1_title": false,
   "title_cell": "Table of Contents",
   "title_sidebar": "Contents",
   "toc_cell": false,
   "toc_position": {},
   "toc_section_display": true,
   "toc_window_display": true
  },
  "varInspector": {
   "cols": {
    "lenName": 16,
    "lenType": 16,
    "lenVar": 40
   },
   "kernels_config": {
    "python": {
     "delete_cmd_postfix": "",
     "delete_cmd_prefix": "del ",
     "library": "var_list.py",
     "varRefreshCmd": "print(var_dic_list())"
    },
    "r": {
     "delete_cmd_postfix": ") ",
     "delete_cmd_prefix": "rm(",
     "library": "var_list.r",
     "varRefreshCmd": "cat(var_dic_list()) "
    }
   },
   "types_to_exclude": [
    "module",
    "function",
    "builtin_function_or_method",
    "instance",
    "_Feature"
   ],
   "window_display": false
  }
 },
 "nbformat": 4,
 "nbformat_minor": 2
}
