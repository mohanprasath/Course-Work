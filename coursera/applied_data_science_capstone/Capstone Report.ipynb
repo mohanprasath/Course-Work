{
 "cells": [
  {
   "cell_type": "markdown",
   "metadata": {},
   "source": [
    "# Project Description\n",
    "\n",
    "**Finding a nice neighborhood to live in.**\n",
    "\n",
    "Most adults during their life, have atleast made a single change of living location due to personal or professional reasons.  However finding a decent place where all the personal needs are met is highly stressful. Some people enjoy doing the detailed analysis by hand thereby figuring out following information like, \n",
    "\n",
    "1. the average rent in a neighborhood, \n",
    "2. transport amenities (both public and private), \n",
    "3. best schools for kids(if they have any, as this is a very important choice), \n",
    "4. average commute time from that neighborhood to work place, \n",
    "5. nearest hospitals, \n",
    "6. crime rates, \n",
    "7. police or communal violence,\n",
    "8. political or racial tensions,\n",
    "9. public health crisis in the last few years, \n",
    "10. tax rates\n",
    "11. public places like parks,\n",
    "12. places to have leisure sctivities like going to restaurants, movie theaters, saunas, gym, etc.,\n",
    "\n",
    "These are few common things to consider during a relocation and they are very important for a healthy and stress free life. And doing an Online search for these is time consuming. In this project, we aim to meet atleast some common requirements like **public places, parks, restaurants etc.**  and guide the project users to choose atleast 1 or more neighborhoods for their consideration during their relocation. By rating the neighborhoods based upon the available amenities they have, we can recommend the neighborhood in a city in a ranked order. This is the goal of this project. \n",
    "\n",
    "**Target Audience:-**  \n",
    "Someone who wants to relocate to a city based on available public services.\n",
    "\n",
    "**Stakeholders:-**\n",
    "1. Someone who wants to relocate to a city.\n",
    "2. Myself. \n",
    "\n",
    "# Data Description\n",
    "\n",
    "We use public libraries and API's in this project. We use Wikipedia and FourSquare API, Some common Python Libraries for programming. \n",
    "\n",
    "### Wikipedia:-\n",
    "From wikipedia pages, we can identify the neighborhood around the city. Every major cities have these information in their wiki page. We access the web page and then extract the neighborhood information. \n",
    "\n",
    "**Date Type:-**\n",
    "XML and HTML\n",
    "\n",
    "**Duration:-**  \n",
    "< 10 seconds\n",
    "\n",
    "**Description of the data:-**  \n",
    "Location coordinates obtained by Geocoder calls.\n",
    "\n",
    "**Source:-**\n",
    "(https://en.wikipedia.org/wiki/Main_Page)\n",
    "\n",
    "### Foursquare API:\n",
    "\n",
    "Foursquare provides a valuable and publically accessible location information like the ameneties in  nearby locations. We use their developer tools to access the required information about the neighboords in a city. Using these accessed information we then rank the neighborhoods based on the ameneties they have. These services are free of charge. \n",
    "\n",
    "We create a Foursquare developer account, and after that we provide some zip codes inside a city and for each zip code or LatLon info(Latitude and Longitude Points) we provided we extract details on the ameneties we expect a neighborhood should have. So we set the radius of this search around to zip code to be around 1km. \n",
    "\n",
    "**Date Type:-**\n",
    "JSON\n",
    "\n",
    "**Duration:-**  \n",
    "N/A\n",
    "\n",
    "**Description of the data:-**  \n",
    "Location coordinates obtained by Foursquare API calls.\n",
    "\n",
    "**Source:-**\n",
    "(https://foursquare.com/)\n",
    "\n",
    "### Public Programming Tools:-\n",
    "We use some public plotting tools like Folium to visualize the  neighborhoods in the city we want to relocate. Then based upon the analysis of the above combined information we can update the Folium visualization to reflect the number of amenities in a neighborhood. \n",
    "\n",
    "### K-Means Clustering Algorithm on the Data:-\n",
    "We can use K-Means Clustering algorithm to group amenities in an area, then we can reduce the number of individual amenities comparisons to be done against each neighborhood. We can do these comparisons against the types of amenities, individually, collectively, or alltogether. "
   ]
  },
  {
   "cell_type": "markdown",
   "metadata": {
    "ExecuteTime": {
     "end_time": "2019-02-06T21:16:04.448195Z",
     "start_time": "2019-02-06T21:16:04.444195Z"
    }
   },
   "source": [
    "# Data Analysis\n",
    "\n",
    "Analyzed data revels the neighborhoods in Toronto with highest emenities. \n",
    "\n",
    "<img src=\"Available Neighborhoods.png\">"
   ]
  },
  {
   "cell_type": "markdown",
   "metadata": {},
   "source": [
    "# Methods - Clustering\n",
    "\n",
    "The above data obtained from Foursquare is now analyzed for figuring out the best neighborhoods among the recived data. For more information refer the ipython notebook in the Github folder as this file you are reading."
   ]
  },
  {
   "cell_type": "markdown",
   "metadata": {},
   "source": [
    "# Result\n",
    "Downtown Toronto has more places in Toroto when compared to West Toronto. So when a person wants to relocate based upon all the avilable amenities they can recognize that Downtown Toronto is the best of all the avilable options."
   ]
  },
  {
   "cell_type": "markdown",
   "metadata": {},
   "source": [
    "# Dicussion\n",
    "The above project can be modified such that neighborhoods from various cities can be included. \n",
    "\n",
    "# Conclusion\n",
    "This project was fun to work with, Now atleast I can rank the nighborhoods easily in the future when I am goign to relocate. "
   ]
  },
  {
   "cell_type": "code",
   "execution_count": null,
   "metadata": {},
   "outputs": [],
   "source": []
  }
 ],
 "metadata": {
  "kernelspec": {
   "display_name": "Python 3",
   "language": "python",
   "name": "python3"
  },
  "language_info": {
   "codemirror_mode": {
    "name": "ipython",
    "version": 3
   },
   "file_extension": ".py",
   "mimetype": "text/x-python",
   "name": "python",
   "nbconvert_exporter": "python",
   "pygments_lexer": "ipython3",
   "version": "3.7.2"
  },
  "latex_envs": {
   "LaTeX_envs_menu_present": true,
   "autoclose": false,
   "autocomplete": true,
   "bibliofile": "biblio.bib",
   "cite_by": "apalike",
   "current_citInitial": 1,
   "eqLabelWithNumbers": true,
   "eqNumInitial": 1,
   "hotkeys": {
    "equation": "Ctrl-E",
    "itemize": "Ctrl-I"
   },
   "labels_anchors": false,
   "latex_user_defs": false,
   "report_style_numbering": false,
   "user_envs_cfg": false
  },
  "toc": {
   "base_numbering": 1,
   "nav_menu": {},
   "number_sections": true,
   "sideBar": true,
   "skip_h1_title": false,
   "title_cell": "Table of Contents",
   "title_sidebar": "Contents",
   "toc_cell": false,
   "toc_position": {},
   "toc_section_display": true,
   "toc_window_display": false
  },
  "varInspector": {
   "cols": {
    "lenName": 16,
    "lenType": 16,
    "lenVar": 40
   },
   "kernels_config": {
    "python": {
     "delete_cmd_postfix": "",
     "delete_cmd_prefix": "del ",
     "library": "var_list.py",
     "varRefreshCmd": "print(var_dic_list())"
    },
    "r": {
     "delete_cmd_postfix": ") ",
     "delete_cmd_prefix": "rm(",
     "library": "var_list.r",
     "varRefreshCmd": "cat(var_dic_list()) "
    }
   },
   "types_to_exclude": [
    "module",
    "function",
    "builtin_function_or_method",
    "instance",
    "_Feature"
   ],
   "window_display": false
  }
 },
 "nbformat": 4,
 "nbformat_minor": 2
}
