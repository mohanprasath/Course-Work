{
 "cells": [
  {
   "cell_type": "markdown",
   "metadata": {},
   "source": [
    "# The Battle of Neighborhoods Week 1 Capstone Report"
   ]
  },
  {
   "cell_type": "markdown",
   "metadata": {
    "ExecuteTime": {
     "end_time": "2019-01-29T14:55:30.318316Z",
     "start_time": "2019-01-29T14:55:30.311353Z"
    }
   },
   "source": [
    "## Project Description\n",
    "\n",
    "**Finding a nice neighborhood to live in.**\n",
    "\n",
    "Most adults during their life, have atleast made a single change of living location due to personal or professional reasons.  However finding a decent place where all the personal needs are met is highly stressful. Some people enjoy doing the detailed analysis by hand thereby figuring out following information like, \n",
    "\n",
    "1. the average rent in a neighborhood, \n",
    "2. transport amenities (both public and private), \n",
    "3. best schools for kids(if they have any, as this is a very important choice), \n",
    "4. average commute time from that neighborhood to work place, \n",
    "5. nearest hospitals, \n",
    "6. crime rates, \n",
    "7. police or communal violence,\n",
    "8. political or racial tensions,\n",
    "9. public health crisis in the last few years, \n",
    "10. tax rates\n",
    "11. public places like parks,\n",
    "12. places to have leisure sctivities like going to restaurants, movie theaters, saunas, gym, etc.,\n",
    "\n",
    "These are few common things to consider during a relocation and they are very important for a healthy and stress free life. And doing an Online search for these is time consuming. In this project, we aim to meet atleast some common requirements like (numbers 1, 2, 3, 4, 5, 11, 12) and guide the project users to choose atleast 1 or more neighborhoods for their consideration during their relocation. By rating the neighborhoods based upon the available amenities they have, we can recommend the neighborhood in a city in a ranked order. This is the goal of this project. "
   ]
  },
  {
   "cell_type": "markdown",
   "metadata": {},
   "source": [
    "## Data Description\n",
    "\n",
    "We use public libraries and API's in this project. We use Foursquare API, Some common Python Libraries for programming. \n",
    "\n",
    "**Foursquare API:**\n",
    "\n",
    "Foursquare provides a valuable and publically accessible location information like the ameneties in  nearby locations. We use their developer tools to access the required information about the neighboords in a city. Using these accessed information we then rank the neighborhoods based on the ameneties they have. These services are free of charge. \n",
    "\n",
    "We create a Foursquare developer account, and after that we provide some zip codes inside a city and for each zip code or LatLon info(Latitude and Longitude Points) we provided we extract details on the ameneties we expect a neighborhood should have. So we set the radius of this search around to zip code to be around 1km. \n",
    "\n",
    "**Public Programming Tools:-**   \n",
    "We use some public plotting tools like Folium to visualize the  neighborhoods in the city we want to relocate. Then based upon the analysis of the Foursquare information we can update the Folium visualization to reflect the number of amenities in a neighborhood. \n",
    "\n",
    "**K-Means Clustering Algorithm on the Data:-**  \n",
    "We can use K-Means Clustering algorithm to group amenities in an area, then we can reduce the number of individual amenities comparisons to be done against each neighborhood. We can do these comparisons against the types of amenities, individually, collectively, or alltogether. "
   ]
  },
  {
   "cell_type": "code",
   "execution_count": null,
   "metadata": {},
   "outputs": [],
   "source": []
  }
 ],
 "metadata": {
  "kernelspec": {
   "display_name": "Python 3",
   "language": "python",
   "name": "python3"
  },
  "language_info": {
   "codemirror_mode": {
    "name": "ipython",
    "version": 3
   },
   "file_extension": ".py",
   "mimetype": "text/x-python",
   "name": "python",
   "nbconvert_exporter": "python",
   "pygments_lexer": "ipython3",
   "version": "3.5.4"
  },
  "latex_envs": {
   "LaTeX_envs_menu_present": true,
   "autoclose": false,
   "autocomplete": true,
   "bibliofile": "biblio.bib",
   "cite_by": "apalike",
   "current_citInitial": 1,
   "eqLabelWithNumbers": true,
   "eqNumInitial": 1,
   "hotkeys": {
    "equation": "Ctrl-E",
    "itemize": "Ctrl-I"
   },
   "labels_anchors": false,
   "latex_user_defs": false,
   "report_style_numbering": false,
   "user_envs_cfg": false
  },
  "toc": {
   "base_numbering": 1,
   "nav_menu": {},
   "number_sections": true,
   "sideBar": true,
   "skip_h1_title": false,
   "title_cell": "Table of Contents",
   "title_sidebar": "Contents",
   "toc_cell": false,
   "toc_position": {},
   "toc_section_display": true,
   "toc_window_display": false
  },
  "varInspector": {
   "cols": {
    "lenName": 16,
    "lenType": 16,
    "lenVar": 40
   },
   "kernels_config": {
    "python": {
     "delete_cmd_postfix": "",
     "delete_cmd_prefix": "del ",
     "library": "var_list.py",
     "varRefreshCmd": "print(var_dic_list())"
    },
    "r": {
     "delete_cmd_postfix": ") ",
     "delete_cmd_prefix": "rm(",
     "library": "var_list.r",
     "varRefreshCmd": "cat(var_dic_list()) "
    }
   },
   "types_to_exclude": [
    "module",
    "function",
    "builtin_function_or_method",
    "instance",
    "_Feature"
   ],
   "window_display": false
  }
 },
 "nbformat": 4,
 "nbformat_minor": 2
}
