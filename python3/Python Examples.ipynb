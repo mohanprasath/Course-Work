{
 "cells": [
  {
   "cell_type": "markdown",
   "metadata": {
    "ExecuteTime": {
     "end_time": "2018-08-22T15:41:30.113293Z",
     "start_time": "2018-08-22T15:41:30.110301Z"
    }
   },
   "source": [
    "# Object Comparison"
   ]
  },
  {
   "cell_type": "code",
   "execution_count": 4,
   "metadata": {
    "ExecuteTime": {
     "end_time": "2018-08-22T15:43:31.540266Z",
     "start_time": "2018-08-22T15:43:31.534282Z"
    }
   },
   "outputs": [
    {
     "name": "stdout",
     "output_type": "stream",
     "text": [
      "== is not the same objects. it just compares the contents of the Objects.\n",
      "is same for assigned objects\n",
      "is not the same for newly created objects\n"
     ]
    }
   ],
   "source": [
    "l1 = [23, 68, 34]\n",
    "l2 = l1\n",
    "l3 = list(l1)\n",
    "\n",
    "if l1 == l2 and l1 == l3:\n",
    "    print(\"== is not the same objects. it just compares the contents of the Objects.\")\n",
    "if l1 is l2:\n",
    "    print(\"is same for assigned objects\")\n",
    "if not l1 is l3:\n",
    "    print(\"is not the same for newly created objects\")"
   ]
  },
  {
   "cell_type": "markdown",
   "metadata": {},
   "source": [
    "# Printing Dictionaries"
   ]
  },
  {
   "cell_type": "code",
   "execution_count": 7,
   "metadata": {
    "ExecuteTime": {
     "end_time": "2018-08-22T15:50:32.693141Z",
     "start_time": "2018-08-22T15:50:32.682160Z"
    }
   },
   "outputs": [
    {
     "name": "stdout",
     "output_type": "stream",
     "text": [
      "{1: 'One', 10: 'ten', 'all_keys': [1, 'two', 10, 'all_keys'], 'two': 2}\n"
     ]
    },
    {
     "data": {
      "text/plain": [
       "'{\"1\": \"One\", \"10\": \"ten\", \"all_keys\": [1, \"two\", 10, \"all_keys\"], \"two\": 2}'"
      ]
     },
     "execution_count": 7,
     "metadata": {},
     "output_type": "execute_result"
    }
   ],
   "source": [
    "d = {1:\"One\", \"two\":2, 10:\"ten\", \"all_keys\":[1, \"two\", 10, \"all_keys\"]}\n",
    "import pprint\n",
    "pprint.pprint(d) # prints as objects\n",
    "import json\n",
    "json.dumps(d) # prints as a string"
   ]
  },
  {
   "cell_type": "markdown",
   "metadata": {},
   "source": [
    "# Assertions"
   ]
  },
  {
   "cell_type": "code",
   "execution_count": null,
   "metadata": {},
   "outputs": [],
   "source": [
    "# Syntax \n",
    "# result ::= \"assert\" expression_1 [\",\" expression_2]\n",
    "# NEEDS_MORE_EXAMPLES"
   ]
  },
  {
   "cell_type": "markdown",
   "metadata": {},
   "source": [
    "# Copying"
   ]
  },
  {
   "cell_type": "code",
   "execution_count": 9,
   "metadata": {
    "ExecuteTime": {
     "end_time": "2018-08-22T16:01:02.957631Z",
     "start_time": "2018-08-22T16:01:02.950671Z"
    }
   },
   "outputs": [
    {
     "name": "stdout",
     "output_type": "stream",
     "text": [
      "True, it's only a Shallow Copy!\n",
      "Check here!, this proves that the copy worked on element wise and not ion the object in the top level. \n"
     ]
    }
   ],
   "source": [
    "# Shallow Copying - only one level deep\n",
    "l1 = [1, 2, 3]\n",
    "l2 = list(l1)\n",
    "if l1[0] is l2[0]:\n",
    "    print(\"True, it's only a Shallow Copy!\")   \n",
    "    if not l1 is l2:\n",
    "        print(\"Check here!, this proves that the copy worked on element wise and not ion the object in the top level. \")"
   ]
  },
  {
   "cell_type": "code",
   "execution_count": 10,
   "metadata": {
    "ExecuteTime": {
     "end_time": "2018-08-22T16:03:10.622729Z",
     "start_time": "2018-08-22T16:03:10.617761Z"
    }
   },
   "outputs": [
    {
     "name": "stdout",
     "output_type": "stream",
     "text": [
      "True, it may be a shallow Copy!\n",
      "Check here!, this proves that the copy worked on element wise and not ion the object in the top level. \n"
     ]
    }
   ],
   "source": [
    "# Deep Copying\n",
    "l1 = [1, 2, 3]\n",
    "import copy\n",
    "l2 = copy.deepcopy(l1)\n",
    "if l1[0] is l2[0]:\n",
    "    print(\"True, it may be a shallow Copy!\")   \n",
    "    if not l1 is l2:\n",
    "        print(\"Check here!, this proves that the copy worked on element wise and not ion the object in the top level. \")\n",
    "    else:\n",
    "        print(\"Yup it's a deep copy\")"
   ]
  },
  {
   "cell_type": "markdown",
   "metadata": {},
   "source": [
    "# Python 3.7.1"
   ]
  },
  {
   "cell_type": "code",
   "execution_count": 1,
   "metadata": {
    "ExecuteTime": {
     "end_time": "2018-11-05T12:58:19.594494Z",
     "start_time": "2018-11-05T12:58:19.590491Z"
    }
   },
   "outputs": [
    {
     "name": "stdout",
     "output_type": "stream",
     "text": [
      "None\n"
     ]
    }
   ],
   "source": [
    "# functions\n",
    "\n",
    "def something(x):\n",
    "    x = x + 1\n",
    "    pass\n",
    "\n",
    "something(1) # seems like nothing is returned from the fucntion, lets check that\n",
    "\n",
    "print(something(2)) # none value will be returned here"
   ]
  },
  {
   "cell_type": "code",
   "execution_count": 11,
   "metadata": {
    "ExecuteTime": {
     "end_time": "2018-11-08T11:40:13.134722Z",
     "start_time": "2018-11-08T11:40:13.129724Z"
    }
   },
   "outputs": [
    {
     "name": "stdout",
     "output_type": "stream",
     "text": [
      "range(stop) -> range object\n",
      "range(start, stop[, step]) -> range object\n",
      "\n",
      "Return an object that produces a sequence of integers from start (inclusive)\n",
      "to stop (exclusive) by step.  range(i, j) produces i, i+1, i+2, ..., j-1.\n",
      "start defaults to 0, and stop is omitted!  range(4) produces 0, 1, 2, 3.\n",
      "These are exactly the valid indices for a list of 4 elements.\n",
      "When step is given, it specifies the increment (or decrement). \n",
      " ['__bool__', '__class__', '__contains__', '__delattr__', '__dir__', '__doc__', '__eq__', '__format__', '__ge__', '__getattribute__', '__getitem__', '__gt__', '__hash__', '__init__', '__iter__', '__le__', '__len__', '__lt__', '__ne__', '__new__', '__reduce__', '__reduce_ex__', '__repr__', '__reversed__', '__setattr__', '__sizeof__', '__str__', '__subclasshook__', 'count', 'index', 'start', 'step', 'stop']\n"
     ]
    }
   ],
   "source": [
    "import inspect\n",
    "import dill\n",
    "# range_decl = inspect.getsource(range)\n",
    "# range_decl = inspect.getfile(range)\n",
    "# range_decl = dill.source.getsourcelines(range)\n",
    "# print(range_decl[0])\n",
    "print(range.__doc__, \"\\n\", dir(range))\n",
    "if \"__annotations__\" in dir(range):\n",
    "    print(range.__annotations__)"
   ]
  },
  {
   "cell_type": "markdown",
   "metadata": {
    "ExecuteTime": {
     "end_time": "2018-11-08T11:28:40.902922Z",
     "start_time": "2018-11-08T11:28:40.899943Z"
    },
    "heading_collapsed": true
   },
   "source": [
    "## Lists"
   ]
  },
  {
   "cell_type": "code",
   "execution_count": 17,
   "metadata": {
    "ExecuteTime": {
     "end_time": "2018-11-10T12:32:31.723425Z",
     "start_time": "2018-11-10T12:32:31.709453Z"
    },
    "code_folding": [
     0
    ],
    "hidden": true,
    "scrolled": true
   },
   "outputs": [
    {
     "name": "stdout",
     "output_type": "stream",
     "text": [
      "\n",
      " \n",
      " Append:\n",
      "[1, 2] [0]\n",
      "\n",
      " \n",
      " Clear:\n",
      "[1, 2]\n",
      "[]\n",
      "[1, 2]\n",
      "[]\n",
      "\n",
      " \n",
      " Copy:\n",
      "[]\n",
      "[1, 2]\n",
      "\n",
      " \n",
      " Count:\n",
      "1\n",
      "6\n",
      "\n",
      " \n",
      " Extend:\n",
      "[1, 2, 4, 9, 16, 25]\n",
      "[1, 2, 4, 9, 16, 25, 36]\n",
      "\n",
      " \n",
      " Index:\n",
      "0\n",
      "[1, 2, 1, 1, 1, 1, 1]\n",
      "2\n",
      "\n",
      " \n",
      " Insert:\n",
      "[1, 2, 1, 1, 1, 1, 1]\n",
      "[2, 1, 2, 1, 1, 1, 1, 1, 2]\n",
      "\n",
      " \n",
      " Pop:\n",
      "2\n",
      "[1, 2, 1, 1, 1, 1, 1, 2]\n",
      "2\n",
      "\n",
      " \n",
      " Remove:\n",
      "[1, 2, 1, 1, 1, 1, 1]\n",
      "[1, 1, 1, 1, 1, 1]\n",
      "\n",
      " \n",
      " Reverse:\n",
      "[0, 10, 100, 1000]\n",
      "[1000, 100, 10, 0]\n",
      "\n",
      " \n",
      " Sort:\n",
      "[1000, 100, 10, 0]\n",
      "[0, 10, 100, 1000]\n",
      "[1000, 100, 10, 0]\n"
     ]
    }
   ],
   "source": [
    "def operations_on_lists():\n",
    "    \"\"\"\n",
    "    All methods available in lists are implemented as exercises in this function.\n",
    "    \n",
    "    method operations available in lists : 11\n",
    "    They are alphabetically listed below:- \n",
    "    \n",
    "    append\n",
    "    clear\n",
    "    copy\n",
    "    count\n",
    "    extend\n",
    "    index\n",
    "    insert\n",
    "    pop\n",
    "    remove\n",
    "    reverse\n",
    "    sort\n",
    "    \n",
    "    \"\"\"\n",
    "    \n",
    "    sample_list = []\n",
    "    another_sample_list = []\n",
    "    \n",
    "    # append\n",
    "    print(\"\\n \\n Append:\")\n",
    "    sample_list.append(1)\n",
    "    sample_list.append(2)\n",
    "    another_sample_list.append(0)\n",
    "    print(sample_list, another_sample_list)\n",
    "    \n",
    "    # clear - this function is similar to del list[:]\n",
    "    print(\"\\n \\n Clear:\")\n",
    "    print(sample_list)\n",
    "    temp = sample_list # when cleared all objects referencing will be cleared\n",
    "    sample_list.clear()\n",
    "    print(sample_list)\n",
    "    sample_list.append(1)\n",
    "    sample_list.append(2)\n",
    "    print(sample_list)\n",
    "    del sample_list[:]\n",
    "    print(sample_list)\n",
    "    \n",
    "    # copy\n",
    "    print(\"\\n \\n Copy:\")\n",
    "    print(temp)\n",
    "    sample_list.append(1)\n",
    "    sample_list.append(2)\n",
    "    temp = sample_list.copy()\n",
    "    print(temp)\n",
    "    \n",
    "    # count(x) - the number of items x appears in the list\n",
    "    print(\"\\n \\n Count:\")\n",
    "    print(sample_list.count(1))\n",
    "    sample_list.append(1)\n",
    "    sample_list.append(1)\n",
    "    sample_list.append(1)\n",
    "    sample_list.append(1)\n",
    "    sample_list.append(1)\n",
    "    print(sample_list.count(1)) \n",
    "    \n",
    "    # extend - combines two lists into a new list\n",
    "    print(\"\\n \\n Extend:\")\n",
    "    new_list = [1, 2, 4, 9, 16, 25]\n",
    "    print(new_list)\n",
    "    new_list.extend([36])\n",
    "    print(new_list)\n",
    "    \n",
    "    # index(x[start, end]) - returns the first location of the item x in the list\n",
    "    print(\"\\n \\n Index:\")\n",
    "    print(sample_list.index(1)) #  returns the start location only\n",
    "    print(sample_list)\n",
    "    print(sample_list.index(1, 1)) # find the element 1 in the list starting from the location 1\n",
    "    \n",
    "    # insert - an item 'x' at a location i in the list\n",
    "    print(\"\\n \\n Insert:\")\n",
    "    print(sample_list)\n",
    "    sample_list.insert(0, 2)\n",
    "    sample_list.insert(len(sample_list), 2)\n",
    "    print(sample_list)\n",
    "    \n",
    "    # Pop - pop the item at location i (or) pops the first item from the list\n",
    "    print(\"\\n \\n Pop:\")\n",
    "    print(sample_list.pop(0))\n",
    "    print(sample_list)\n",
    "    print(sample_list.pop())    \n",
    "    \n",
    "    # remove(x) - an item 'x' from a the first location the item is found\n",
    "    print(\"\\n \\n Remove:\")\n",
    "    print(sample_list)\n",
    "    sample_list.remove(2)\n",
    "    print(sample_list)\n",
    "    \n",
    "    # reverse\n",
    "    print(\"\\n \\n Reverse:\")\n",
    "    another_sample_list.append(10)\n",
    "    another_sample_list.append(100)\n",
    "    another_sample_list.append(1000)\n",
    "    print(another_sample_list)\n",
    "    another_sample_list.reverse()\n",
    "    print(another_sample_list)\n",
    "    \n",
    "    # Sort(key=None, reverse=False)\n",
    "    print(\"\\n \\n Sort:\")\n",
    "    print(another_sample_list)\n",
    "    another_sample_list.sort()\n",
    "    print(another_sample_list)\n",
    "    another_sample_list.sort(reverse=True)\n",
    "    print(another_sample_list)\n",
    "    \n",
    "    return None\n",
    "    \n",
    "operations_on_lists()"
   ]
  },
  {
   "cell_type": "markdown",
   "metadata": {
    "hidden": true
   },
   "source": [
    "### Tuples and Sequences"
   ]
  },
  {
   "cell_type": "code",
   "execution_count": 27,
   "metadata": {
    "ExecuteTime": {
     "end_time": "2018-11-12T11:03:41.283477Z",
     "start_time": "2018-11-12T11:03:41.271077Z"
    },
    "code_folding": [
     0
    ],
    "hidden": true,
    "scrolled": true
   },
   "outputs": [
    {
     "name": "stdout",
     "output_type": "stream",
     "text": [
      "\n",
      " Sequences Example:\n",
      "<class 'tuple'> <class 'tuple'> <class 'NoneType'> <class 'set'> <class 'dict'> <class 'list'>\n",
      "\n",
      " Mutability Verification:\n",
      "2488879858816\n",
      "2488879928368\n",
      "2488880743944\n",
      "2488880743944\n",
      "\n",
      " Enumerate Example:\n",
      "0 this\n",
      "1 works\n",
      "2 too\n",
      "\n",
      " Zip Example:\n",
      "this this\n",
      "works works\n",
      "too too\n",
      "\n",
      " Reversed and Sorted:\n",
      "['capricum', 'apple', 'banana']\n",
      "['banana', 'apple', 'capricum']\n",
      "['apple', 'banana', 'capricum']\n",
      "\n",
      " Comparing Sequences :\n",
      "True\n",
      "False\n",
      "False\n",
      "True\n"
     ]
    }
   ],
   "source": [
    "# example 1, 2, 3, 4\n",
    "# All declarations example\n",
    "print(\"\\n Sequences Example:\")\n",
    "tuple_sample = 1, 3, \"Something else\"\n",
    "another_tuple_sample = (\"this\", \"works\", \"too\")\n",
    "sequence_sample = None # usually the sequence types are - list, tuple, range\n",
    "# Mind a set is not a sequence\n",
    "set_sample = {\"apple\", \"banana\", \"capricum\"} # Check this - it is similar to tuple or the same\n",
    "dictionary_sample = {\"Key_1\": \"Value_1\"}\n",
    "list_sample = [\"Something\"]\n",
    "\n",
    "print(type(tuple_sample), type(another_tuple_sample), \n",
    "      type(sequence_sample), type(set_sample),\n",
    "      type(dictionary_sample), type(list_sample))\n",
    "\n",
    "# example 5 - How to identify an object individually in Python\n",
    "# this is done to chekc the mutability of objects in Python\n",
    "print(\"\\n Mutability Verification:\")\n",
    "print(id(tuple_sample))\n",
    "tuple_sample = \"new_tuple\"\n",
    "print(id(tuple_sample))\n",
    "print(id(list_sample))\n",
    "list_sample[0] = \"new_list-item\"\n",
    "print(id(list_sample))\n",
    "# So tuples are immuatble while lists are mutable\n",
    "\n",
    "# example 6  - enumerate example\n",
    "print(\"\\n Enumerate Example:\")\n",
    "for i, obj in enumerate(another_tuple_sample):\n",
    "    print(i, obj)\n",
    "    \n",
    "# exampel 7 - zip functionality, mind the length of both objects to be zipped\n",
    "print(\"\\n Zip Example:\")\n",
    "for i, obj in zip(another_tuple_sample, another_tuple_sample):\n",
    "    print(i, obj)\n",
    "\n",
    "# example 8 , 9- reversed and sorted\n",
    "print(\"\\n Reversed and Sorted:\")\n",
    "temp = list(set_sample)\n",
    "print(temp)\n",
    "print([x for x in reversed(temp)])\n",
    "print(sorted(temp))\n",
    "\n",
    "# example 10 - comparing the sequences\n",
    "# lexicographical ordering is used\n",
    "print(\"\\n Comparing Sequences :\")\n",
    "print((1, 2, 3) == (1, 2, 3))\n",
    "print((1, 2, 3) == (1, 2, 3, 4))\n",
    "print((1, 2, 3) < (1, 2, 3))\n",
    "print((1, 2, 3) <= (1, 2, 3))"
   ]
  },
  {
   "cell_type": "markdown",
   "metadata": {
    "heading_collapsed": true
   },
   "source": [
    "## Modules"
   ]
  },
  {
   "cell_type": "code",
   "execution_count": 9,
   "metadata": {
    "ExecuteTime": {
     "end_time": "2018-11-12T17:37:22.607527Z",
     "start_time": "2018-11-12T17:37:22.600581Z"
    },
    "code_folding": [
     0
    ],
    "hidden": true
   },
   "outputs": [
    {
     "name": "stdout",
     "output_type": "stream",
     "text": [
      "[0, 1, 1, 2, 3, 5, 8, 13, 21, 34, 55, 89]\n",
      "[0, 1, 1, 2, 3, 5, 8, 13, 21, 34, 55, 89]\n",
      "[0, 1, 1, 2, 3, 5, 8, 13, 21, 34, 55, 89]\n",
      "[0, 1, 1, 2, 3, 5, 8, 13, 21, 34, 55, 89]\n",
      "['ArithmeticError', 'AssertionError', 'AttributeError', 'BaseException', 'BlockingIOError', 'BrokenPipeError', 'BufferError', 'BytesWarning', 'ChildProcessError', 'ConnectionAbortedError', 'ConnectionError', 'ConnectionRefusedError', 'ConnectionResetError', 'DeprecationWarning', 'EOFError', 'Ellipsis', 'EnvironmentError', 'Exception', 'False', 'FileExistsError', 'FileNotFoundError', 'FloatingPointError', 'FutureWarning', 'GeneratorExit', 'IOError', 'ImportError', 'ImportWarning', 'IndentationError', 'IndexError', 'InterruptedError', 'IsADirectoryError', 'KeyError', 'KeyboardInterrupt', 'LookupError', 'MemoryError', 'NameError', 'None', 'NotADirectoryError', 'NotImplemented', 'NotImplementedError', 'OSError', 'OverflowError', 'PendingDeprecationWarning', 'PermissionError', 'ProcessLookupError', 'RecursionError', 'ReferenceError', 'ResourceWarning', 'RuntimeError', 'RuntimeWarning', 'StopAsyncIteration', 'StopIteration', 'SyntaxError', 'SyntaxWarning', 'SystemError', 'SystemExit', 'TabError', 'TimeoutError', 'True', 'TypeError', 'UnboundLocalError', 'UnicodeDecodeError', 'UnicodeEncodeError', 'UnicodeError', 'UnicodeTranslateError', 'UnicodeWarning', 'UserWarning', 'ValueError', 'Warning', 'WindowsError', 'ZeroDivisionError', '__IPYTHON__', '__build_class__', '__debug__', '__doc__', '__import__', '__loader__', '__name__', '__package__', '__spec__', 'abs', 'all', 'any', 'ascii', 'bin', 'bool', 'bytearray', 'bytes', 'callable', 'chr', 'classmethod', 'compile', 'complex', 'copyright', 'credits', 'delattr', 'dict', 'dir', 'display', 'divmod', 'enumerate', 'eval', 'exec', 'filter', 'float', 'format', 'frozenset', 'get_ipython', 'getattr', 'globals', 'hasattr', 'hash', 'help', 'hex', 'id', 'input', 'int', 'isinstance', 'issubclass', 'iter', 'len', 'license', 'list', 'locals', 'map', 'max', 'memoryview', 'min', 'next', 'object', 'oct', 'open', 'ord', 'pow', 'print', 'property', 'range', 'repr', 'reversed', 'round', 'set', 'setattr', 'slice', 'sorted', 'staticmethod', 'str', 'sum', 'super', 'tuple', 'type', 'vars', 'zip']\n",
      "Something\n"
     ]
    }
   ],
   "source": [
    "# Example 1 to 7 - Creating, calling, assigning it to a local variable\n",
    "def modules():\n",
    "    '''\n",
    "    Function with examples describing the uses of a module.\n",
    "    \n",
    "    What is a module?\n",
    "        A module is a file containing Python definitions and statements.\n",
    "    \n",
    "    So any functions within a module can be accessed, by the file name.\n",
    "    For example, lets create a file called fibo.py and write a function in it\n",
    "    to calculate the fibonocii sequence of a given number n and import that\n",
    "    function here inside this function. \n",
    "    '''\n",
    "    # example 1\n",
    "    import fibo\n",
    "    # example 2\n",
    "    fibo.fibonocii(10) \n",
    "    # example 3\n",
    "    fib = fibo.fibonocii \n",
    "    fib(10)\n",
    "    \n",
    "    # Note 1:\n",
    "    # Any changes in the module code after importing it, cannot be\n",
    "    # reflected in the kernel right away. Restart the kernel for the updates. \n",
    "    \n",
    "    # example 4\n",
    "    from fibo import fibonocii\n",
    "    # example 5\n",
    "    # from fibo import *  -- NOT Working Check this code\n",
    "    # example 6\n",
    "    import fibo as fibonocii\n",
    "    fibonocii.fibonocii(10)\n",
    "    # example 7\n",
    "    fibonocii = None\n",
    "    from fibo import fibonocii as fib\n",
    "    fib(10)\n",
    "    \n",
    "    # NOTE 2:\n",
    "    # Compiled modules are stored in __pycache__ location creating a .pyc file\n",
    "    \n",
    "    # example 8\n",
    "    import builtins # allows us to find all the functions in a module easily\n",
    "    print(dir(builtins))\n",
    "    \n",
    "    # example 9, 10 - TODO Test the declaration or importing without using \n",
    "    # the module name from the package\n",
    "    from textpackage import something\n",
    "    something.print_something()\n",
    "    pass\n",
    "\n",
    "modules()"
   ]
  },
  {
   "cell_type": "markdown",
   "metadata": {},
   "source": [
    "## Input & Output"
   ]
  },
  {
   "cell_type": "markdown",
   "metadata": {},
   "source": [
    "### Formatting"
   ]
  },
  {
   "cell_type": "code",
   "execution_count": null,
   "metadata": {},
   "outputs": [],
   "source": []
  },
  {
   "cell_type": "markdown",
   "metadata": {},
   "source": [
    "### Reading and Writing Files"
   ]
  },
  {
   "cell_type": "code",
   "execution_count": null,
   "metadata": {},
   "outputs": [],
   "source": []
  },
  {
   "cell_type": "code",
   "execution_count": null,
   "metadata": {},
   "outputs": [],
   "source": []
  },
  {
   "cell_type": "code",
   "execution_count": null,
   "metadata": {},
   "outputs": [],
   "source": []
  },
  {
   "cell_type": "code",
   "execution_count": null,
   "metadata": {},
   "outputs": [],
   "source": []
  },
  {
   "cell_type": "code",
   "execution_count": null,
   "metadata": {},
   "outputs": [],
   "source": []
  },
  {
   "cell_type": "code",
   "execution_count": 2,
   "metadata": {
    "ExecuteTime": {
     "end_time": "2018-12-13T04:04:33.177303Z",
     "start_time": "2018-12-13T04:04:33.172821Z"
    }
   },
   "outputs": [
    {
     "name": "stdout",
     "output_type": "stream",
     "text": [
      "0\n",
      "1\n",
      "2\n",
      "3\n",
      "4\n"
     ]
    }
   ],
   "source": [
    "for i in range(5):\n",
    "        print(i)"
   ]
  },
  {
   "cell_type": "markdown",
   "metadata": {
    "ExecuteTime": {
     "end_time": "2018-11-08T11:43:13.107307Z",
     "start_time": "2018-11-08T11:43:13.104316Z"
    }
   },
   "source": [
    "# Yet to master the following:"
   ]
  },
  {
   "cell_type": "code",
   "execution_count": null,
   "metadata": {},
   "outputs": [],
   "source": [
    "# annotations with examples\n",
    "# shallow vs. deep copy with examples\n",
    "# tuples vs. sequences with examples - Done"
   ]
  }
 ],
 "metadata": {
  "anaconda-cloud": {},
  "kernelspec": {
   "display_name": "Python 3",
   "language": "python",
   "name": "python3"
  },
  "language_info": {
   "codemirror_mode": {
    "name": "ipython",
    "version": 3
   },
   "file_extension": ".py",
   "mimetype": "text/x-python",
   "name": "python",
   "nbconvert_exporter": "python",
   "pygments_lexer": "ipython3",
   "version": "3.5.4"
  },
  "latex_envs": {
   "LaTeX_envs_menu_present": true,
   "autoclose": false,
   "autocomplete": true,
   "bibliofile": "biblio.bib",
   "cite_by": "apalike",
   "current_citInitial": 1,
   "eqLabelWithNumbers": true,
   "eqNumInitial": 1,
   "hotkeys": {
    "equation": "Ctrl-E",
    "itemize": "Ctrl-I"
   },
   "labels_anchors": false,
   "latex_user_defs": false,
   "report_style_numbering": false,
   "user_envs_cfg": false
  },
  "toc": {
   "base_numbering": 1,
   "nav_menu": {},
   "number_sections": true,
   "sideBar": true,
   "skip_h1_title": false,
   "title_cell": "Table of Contents",
   "title_sidebar": "Contents",
   "toc_cell": false,
   "toc_position": {},
   "toc_section_display": true,
   "toc_window_display": true
  },
  "varInspector": {
   "cols": {
    "lenName": 16,
    "lenType": 16,
    "lenVar": 40
   },
   "kernels_config": {
    "python": {
     "delete_cmd_postfix": "",
     "delete_cmd_prefix": "del ",
     "library": "var_list.py",
     "varRefreshCmd": "print(var_dic_list())"
    },
    "r": {
     "delete_cmd_postfix": ") ",
     "delete_cmd_prefix": "rm(",
     "library": "var_list.r",
     "varRefreshCmd": "cat(var_dic_list()) "
    }
   },
   "types_to_exclude": [
    "module",
    "function",
    "builtin_function_or_method",
    "instance",
    "_Feature"
   ],
   "window_display": false
  }
 },
 "nbformat": 4,
 "nbformat_minor": 2
}
